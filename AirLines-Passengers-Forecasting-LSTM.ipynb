{
 "cells": [
  {
   "cell_type": "code",
   "execution_count": 2,
   "metadata": {},
   "outputs": [],
   "source": [
    "import pandas as pd"
   ]
  },
  {
   "cell_type": "code",
   "execution_count": 35,
   "metadata": {},
   "outputs": [],
   "source": [
    "airlinedata = pd.read_csv(\"AirPassengers.csv\")"
   ]
  },
  {
   "cell_type": "code",
   "execution_count": 36,
   "metadata": {},
   "outputs": [
    {
     "data": {
      "text/html": [
       "<div>\n",
       "<style scoped>\n",
       "    .dataframe tbody tr th:only-of-type {\n",
       "        vertical-align: middle;\n",
       "    }\n",
       "\n",
       "    .dataframe tbody tr th {\n",
       "        vertical-align: top;\n",
       "    }\n",
       "\n",
       "    .dataframe thead th {\n",
       "        text-align: right;\n",
       "    }\n",
       "</style>\n",
       "<table border=\"1\" class=\"dataframe\">\n",
       "  <thead>\n",
       "    <tr style=\"text-align: right;\">\n",
       "      <th></th>\n",
       "      <th>Month</th>\n",
       "      <th>#Passengers</th>\n",
       "    </tr>\n",
       "  </thead>\n",
       "  <tbody>\n",
       "    <tr>\n",
       "      <th>0</th>\n",
       "      <td>1949-01</td>\n",
       "      <td>112</td>\n",
       "    </tr>\n",
       "    <tr>\n",
       "      <th>1</th>\n",
       "      <td>1949-02</td>\n",
       "      <td>118</td>\n",
       "    </tr>\n",
       "    <tr>\n",
       "      <th>2</th>\n",
       "      <td>1949-03</td>\n",
       "      <td>132</td>\n",
       "    </tr>\n",
       "    <tr>\n",
       "      <th>3</th>\n",
       "      <td>1949-04</td>\n",
       "      <td>129</td>\n",
       "    </tr>\n",
       "    <tr>\n",
       "      <th>4</th>\n",
       "      <td>1949-05</td>\n",
       "      <td>121</td>\n",
       "    </tr>\n",
       "  </tbody>\n",
       "</table>\n",
       "</div>"
      ],
      "text/plain": [
       "     Month  #Passengers\n",
       "0  1949-01          112\n",
       "1  1949-02          118\n",
       "2  1949-03          132\n",
       "3  1949-04          129\n",
       "4  1949-05          121"
      ]
     },
     "execution_count": 36,
     "metadata": {},
     "output_type": "execute_result"
    }
   ],
   "source": [
    "airlinedata.head()"
   ]
  },
  {
   "cell_type": "code",
   "execution_count": 37,
   "metadata": {},
   "outputs": [
    {
     "data": {
      "text/plain": [
       "Index(['Month', '#Passengers'], dtype='object')"
      ]
     },
     "execution_count": 37,
     "metadata": {},
     "output_type": "execute_result"
    }
   ],
   "source": [
    "airlinedata.columns"
   ]
  },
  {
   "cell_type": "code",
   "execution_count": 38,
   "metadata": {},
   "outputs": [
    {
     "data": {
      "text/html": [
       "<div>\n",
       "<style scoped>\n",
       "    .dataframe tbody tr th:only-of-type {\n",
       "        vertical-align: middle;\n",
       "    }\n",
       "\n",
       "    .dataframe tbody tr th {\n",
       "        vertical-align: top;\n",
       "    }\n",
       "\n",
       "    .dataframe thead th {\n",
       "        text-align: right;\n",
       "    }\n",
       "</style>\n",
       "<table border=\"1\" class=\"dataframe\">\n",
       "  <thead>\n",
       "    <tr style=\"text-align: right;\">\n",
       "      <th></th>\n",
       "      <th>Month</th>\n",
       "      <th>#Passengers</th>\n",
       "    </tr>\n",
       "  </thead>\n",
       "  <tbody>\n",
       "    <tr>\n",
       "      <th>139</th>\n",
       "      <td>1960-08</td>\n",
       "      <td>606</td>\n",
       "    </tr>\n",
       "    <tr>\n",
       "      <th>140</th>\n",
       "      <td>1960-09</td>\n",
       "      <td>508</td>\n",
       "    </tr>\n",
       "    <tr>\n",
       "      <th>141</th>\n",
       "      <td>1960-10</td>\n",
       "      <td>461</td>\n",
       "    </tr>\n",
       "    <tr>\n",
       "      <th>142</th>\n",
       "      <td>1960-11</td>\n",
       "      <td>390</td>\n",
       "    </tr>\n",
       "    <tr>\n",
       "      <th>143</th>\n",
       "      <td>1960-12</td>\n",
       "      <td>432</td>\n",
       "    </tr>\n",
       "  </tbody>\n",
       "</table>\n",
       "</div>"
      ],
      "text/plain": [
       "       Month  #Passengers\n",
       "139  1960-08          606\n",
       "140  1960-09          508\n",
       "141  1960-10          461\n",
       "142  1960-11          390\n",
       "143  1960-12          432"
      ]
     },
     "execution_count": 38,
     "metadata": {},
     "output_type": "execute_result"
    }
   ],
   "source": [
    "airlinedata.tail()"
   ]
  },
  {
   "cell_type": "code",
   "execution_count": 41,
   "metadata": {},
   "outputs": [
    {
     "data": {
      "text/plain": [
       "0      112\n",
       "1      118\n",
       "2      132\n",
       "3      129\n",
       "4      121\n",
       "      ... \n",
       "139    606\n",
       "140    508\n",
       "141    461\n",
       "142    390\n",
       "143    432\n",
       "Name: #Passengers, Length: 144, dtype: int64"
      ]
     },
     "execution_count": 41,
     "metadata": {},
     "output_type": "execute_result"
    }
   ],
   "source": [
    "#Scaling the data\n",
    "airlinedata.iloc[:,1]"
   ]
  },
  {
   "cell_type": "code",
   "execution_count": 31,
   "metadata": {},
   "outputs": [],
   "source": [
    "from sklearn.preprocessing import MinMaxScaler"
   ]
  },
  {
   "cell_type": "code",
   "execution_count": 32,
   "metadata": {},
   "outputs": [],
   "source": [
    "scaler=MinMaxScaler(feature_range=(0,1))"
   ]
  },
  {
   "cell_type": "code",
   "execution_count": 46,
   "metadata": {},
   "outputs": [],
   "source": [
    "df = scaler.fit_transform(airlinedata.iloc[:,1:])"
   ]
  },
  {
   "cell_type": "code",
   "execution_count": 47,
   "metadata": {},
   "outputs": [
    {
     "data": {
      "text/plain": [
       "(144, 1)"
      ]
     },
     "execution_count": 47,
     "metadata": {},
     "output_type": "execute_result"
    }
   ],
   "source": [
    "df.shape"
   ]
  },
  {
   "cell_type": "code",
   "execution_count": 48,
   "metadata": {},
   "outputs": [
    {
     "data": {
      "text/plain": [
       "array([[0.01544402],\n",
       "       [0.02702703],\n",
       "       [0.05405405],\n",
       "       [0.04826255],\n",
       "       [0.03281853],\n",
       "       [0.05984556],\n",
       "       [0.08494208],\n",
       "       [0.08494208],\n",
       "       [0.06177606],\n",
       "       [0.02895753],\n",
       "       [0.        ],\n",
       "       [0.02702703],\n",
       "       [0.02123552],\n",
       "       [0.04247104],\n",
       "       [0.07142857],\n",
       "       [0.05984556],\n",
       "       [0.04054054],\n",
       "       [0.08687259],\n",
       "       [0.12741313],\n",
       "       [0.12741313],\n",
       "       [0.1042471 ],\n",
       "       [0.05598456],\n",
       "       [0.01930502],\n",
       "       [0.06949807],\n",
       "       [0.07915058],\n",
       "       [0.08880309],\n",
       "       [0.14285714],\n",
       "       [0.11389961],\n",
       "       [0.13127413],\n",
       "       [0.14285714],\n",
       "       [0.18339768],\n",
       "       [0.18339768],\n",
       "       [0.15444015],\n",
       "       [0.11196911],\n",
       "       [0.08108108],\n",
       "       [0.11969112],\n",
       "       [0.12934363],\n",
       "       [0.14671815],\n",
       "       [0.17181467],\n",
       "       [0.14864865],\n",
       "       [0.15250965],\n",
       "       [0.22007722],\n",
       "       [0.24324324],\n",
       "       [0.26640927],\n",
       "       [0.2027027 ],\n",
       "       [0.16795367],\n",
       "       [0.13127413],\n",
       "       [0.17374517],\n",
       "       [0.17760618],\n",
       "       [0.17760618],\n",
       "       [0.25482625],\n",
       "       [0.25289575],\n",
       "       [0.24131274],\n",
       "       [0.26833977],\n",
       "       [0.30888031],\n",
       "       [0.32432432],\n",
       "       [0.25675676],\n",
       "       [0.20656371],\n",
       "       [0.14671815],\n",
       "       [0.18725869],\n",
       "       [0.19305019],\n",
       "       [0.16216216],\n",
       "       [0.25289575],\n",
       "       [0.23745174],\n",
       "       [0.25096525],\n",
       "       [0.30888031],\n",
       "       [0.38223938],\n",
       "       [0.36486486],\n",
       "       [0.2992278 ],\n",
       "       [0.24131274],\n",
       "       [0.19111969],\n",
       "       [0.24131274],\n",
       "       [0.26640927],\n",
       "       [0.24903475],\n",
       "       [0.31467181],\n",
       "       [0.31853282],\n",
       "       [0.32046332],\n",
       "       [0.40733591],\n",
       "       [0.5019305 ],\n",
       "       [0.46911197],\n",
       "       [0.4015444 ],\n",
       "       [0.32818533],\n",
       "       [0.25675676],\n",
       "       [0.33590734],\n",
       "       [0.34749035],\n",
       "       [0.33397683],\n",
       "       [0.41119691],\n",
       "       [0.4034749 ],\n",
       "       [0.41312741],\n",
       "       [0.52123552],\n",
       "       [0.5965251 ],\n",
       "       [0.58108108],\n",
       "       [0.48455598],\n",
       "       [0.38996139],\n",
       "       [0.32239382],\n",
       "       [0.38996139],\n",
       "       [0.40733591],\n",
       "       [0.38030888],\n",
       "       [0.48648649],\n",
       "       [0.47104247],\n",
       "       [0.48455598],\n",
       "       [0.61389961],\n",
       "       [0.6969112 ],\n",
       "       [0.7007722 ],\n",
       "       [0.57915058],\n",
       "       [0.46911197],\n",
       "       [0.38803089],\n",
       "       [0.44787645],\n",
       "       [0.45559846],\n",
       "       [0.41312741],\n",
       "       [0.4980695 ],\n",
       "       [0.47104247],\n",
       "       [0.5       ],\n",
       "       [0.63899614],\n",
       "       [0.74710425],\n",
       "       [0.77413127],\n",
       "       [0.57915058],\n",
       "       [0.49227799],\n",
       "       [0.3976834 ],\n",
       "       [0.44980695],\n",
       "       [0.49420849],\n",
       "       [0.45945946],\n",
       "       [0.58301158],\n",
       "       [0.56370656],\n",
       "       [0.61003861],\n",
       "       [0.71042471],\n",
       "       [0.85714286],\n",
       "       [0.87837838],\n",
       "       [0.69305019],\n",
       "       [0.58494208],\n",
       "       [0.4980695 ],\n",
       "       [0.58108108],\n",
       "       [0.6042471 ],\n",
       "       [0.55405405],\n",
       "       [0.60810811],\n",
       "       [0.68918919],\n",
       "       [0.71042471],\n",
       "       [0.83204633],\n",
       "       [1.        ],\n",
       "       [0.96911197],\n",
       "       [0.77992278],\n",
       "       [0.68918919],\n",
       "       [0.55212355],\n",
       "       [0.63320463]])"
      ]
     },
     "execution_count": 48,
     "metadata": {},
     "output_type": "execute_result"
    }
   ],
   "source": [
    "df"
   ]
  },
  {
   "cell_type": "code",
   "execution_count": 49,
   "metadata": {},
   "outputs": [],
   "source": [
    "training_size=int(len(df)*0.65)"
   ]
  },
  {
   "cell_type": "code",
   "execution_count": 50,
   "metadata": {},
   "outputs": [
    {
     "data": {
      "text/plain": [
       "93"
      ]
     },
     "execution_count": 50,
     "metadata": {},
     "output_type": "execute_result"
    }
   ],
   "source": [
    "training_size"
   ]
  },
  {
   "cell_type": "code",
   "execution_count": 53,
   "metadata": {},
   "outputs": [
    {
     "data": {
      "text/plain": [
       "51"
      ]
     },
     "execution_count": 53,
     "metadata": {},
     "output_type": "execute_result"
    }
   ],
   "source": [
    "test_size=len(df)-training_size\n",
    "test_size"
   ]
  },
  {
   "cell_type": "code",
   "execution_count": 73,
   "metadata": {},
   "outputs": [],
   "source": [
    "train_data,test_data=df[0:training_size,:],df[training_size:len(df),:]"
   ]
  },
  {
   "cell_type": "code",
   "execution_count": 78,
   "metadata": {},
   "outputs": [
    {
     "data": {
      "text/plain": [
       "array([[0.38996139],\n",
       "       [0.32239382],\n",
       "       [0.38996139],\n",
       "       [0.40733591],\n",
       "       [0.38030888],\n",
       "       [0.48648649],\n",
       "       [0.47104247],\n",
       "       [0.48455598],\n",
       "       [0.61389961],\n",
       "       [0.6969112 ],\n",
       "       [0.7007722 ],\n",
       "       [0.57915058],\n",
       "       [0.46911197],\n",
       "       [0.38803089],\n",
       "       [0.44787645],\n",
       "       [0.45559846],\n",
       "       [0.41312741],\n",
       "       [0.4980695 ],\n",
       "       [0.47104247],\n",
       "       [0.5       ],\n",
       "       [0.63899614],\n",
       "       [0.74710425],\n",
       "       [0.77413127],\n",
       "       [0.57915058],\n",
       "       [0.49227799],\n",
       "       [0.3976834 ],\n",
       "       [0.44980695],\n",
       "       [0.49420849],\n",
       "       [0.45945946],\n",
       "       [0.58301158],\n",
       "       [0.56370656],\n",
       "       [0.61003861],\n",
       "       [0.71042471],\n",
       "       [0.85714286],\n",
       "       [0.87837838],\n",
       "       [0.69305019],\n",
       "       [0.58494208],\n",
       "       [0.4980695 ],\n",
       "       [0.58108108],\n",
       "       [0.6042471 ],\n",
       "       [0.55405405],\n",
       "       [0.60810811],\n",
       "       [0.68918919],\n",
       "       [0.71042471],\n",
       "       [0.83204633],\n",
       "       [1.        ],\n",
       "       [0.96911197],\n",
       "       [0.77992278],\n",
       "       [0.68918919],\n",
       "       [0.55212355],\n",
       "       [0.63320463]])"
      ]
     },
     "execution_count": 78,
     "metadata": {},
     "output_type": "execute_result"
    }
   ],
   "source": [
    "test_data"
   ]
  },
  {
   "cell_type": "code",
   "execution_count": 80,
   "metadata": {},
   "outputs": [],
   "source": [
    "import numpy\n",
    "# convert an array of values into a dataset matrix"
   ]
  },
  {
   "cell_type": "code",
   "execution_count": 83,
   "metadata": {},
   "outputs": [],
   "source": [
    "import numpy\n",
    "# convert an array of values into a dataset matrix\n",
    "def create_dataset(dataset, time_step=1):\n",
    "\tdataX, dataY = [], []\n",
    "\tfor i in range(len(dataset)-time_step-1):\n",
    "\t\ta = dataset[i:(i+time_step), 0]   ###i=0, 0,1,2,3\n",
    "\t\tdataX.append(a)\n",
    "\t\tdataY.append(dataset[i + time_step, 0])\n",
    "\treturn numpy.array(dataX), numpy.array(dataY)"
   ]
  },
  {
   "cell_type": "code",
   "execution_count": 84,
   "metadata": {},
   "outputs": [],
   "source": [
    "time_step = 4\n",
    "X_train, y_train = create_dataset(train_data, time_step)\n",
    "X_test, ytest = create_dataset(test_data, time_step)"
   ]
  },
  {
   "cell_type": "code",
   "execution_count": 85,
   "metadata": {},
   "outputs": [
    {
     "data": {
      "text/plain": [
       "((88, 4), (88,))"
      ]
     },
     "execution_count": 85,
     "metadata": {},
     "output_type": "execute_result"
    }
   ],
   "source": [
    "X_train.shape, y_train.shape"
   ]
  },
  {
   "cell_type": "code",
   "execution_count": 86,
   "metadata": {},
   "outputs": [],
   "source": [
    "import numpy as np\n",
    "# reshape input to be [samples, time steps, features] which is required for LSTM\n",
    "X_train =X_train.reshape(X_train.shape[0], 4, 1)\n",
    "X_test = X_test.reshape(X_test.shape[0], 4, 1)"
   ]
  },
  {
   "cell_type": "code",
   "execution_count": 87,
   "metadata": {},
   "outputs": [
    {
     "data": {
      "text/plain": [
       "(88, 4, 1)"
      ]
     },
     "execution_count": 87,
     "metadata": {},
     "output_type": "execute_result"
    }
   ],
   "source": [
    "X_train.shape"
   ]
  },
  {
   "cell_type": "code",
   "execution_count": 88,
   "metadata": {},
   "outputs": [
    {
     "name": "stderr",
     "output_type": "stream",
     "text": [
      "C:\\Users\\kmugalkh\\anaconda3\\lib\\site-packages\\tensorflow\\python\\framework\\dtypes.py:516: FutureWarning: Passing (type, 1) or '1type' as a synonym of type is deprecated; in a future version of numpy, it will be understood as (type, (1,)) / '(1,)type'.\n",
      "  _np_qint8 = np.dtype([(\"qint8\", np.int8, 1)])\n",
      "C:\\Users\\kmugalkh\\anaconda3\\lib\\site-packages\\tensorflow\\python\\framework\\dtypes.py:517: FutureWarning: Passing (type, 1) or '1type' as a synonym of type is deprecated; in a future version of numpy, it will be understood as (type, (1,)) / '(1,)type'.\n",
      "  _np_quint8 = np.dtype([(\"quint8\", np.uint8, 1)])\n",
      "C:\\Users\\kmugalkh\\anaconda3\\lib\\site-packages\\tensorflow\\python\\framework\\dtypes.py:518: FutureWarning: Passing (type, 1) or '1type' as a synonym of type is deprecated; in a future version of numpy, it will be understood as (type, (1,)) / '(1,)type'.\n",
      "  _np_qint16 = np.dtype([(\"qint16\", np.int16, 1)])\n",
      "C:\\Users\\kmugalkh\\anaconda3\\lib\\site-packages\\tensorflow\\python\\framework\\dtypes.py:519: FutureWarning: Passing (type, 1) or '1type' as a synonym of type is deprecated; in a future version of numpy, it will be understood as (type, (1,)) / '(1,)type'.\n",
      "  _np_quint16 = np.dtype([(\"quint16\", np.uint16, 1)])\n",
      "C:\\Users\\kmugalkh\\anaconda3\\lib\\site-packages\\tensorflow\\python\\framework\\dtypes.py:520: FutureWarning: Passing (type, 1) or '1type' as a synonym of type is deprecated; in a future version of numpy, it will be understood as (type, (1,)) / '(1,)type'.\n",
      "  _np_qint32 = np.dtype([(\"qint32\", np.int32, 1)])\n",
      "C:\\Users\\kmugalkh\\anaconda3\\lib\\site-packages\\tensorflow\\python\\framework\\dtypes.py:525: FutureWarning: Passing (type, 1) or '1type' as a synonym of type is deprecated; in a future version of numpy, it will be understood as (type, (1,)) / '(1,)type'.\n",
      "  np_resource = np.dtype([(\"resource\", np.ubyte, 1)])\n",
      "C:\\Users\\kmugalkh\\anaconda3\\lib\\site-packages\\tensorboard\\compat\\tensorflow_stub\\dtypes.py:541: FutureWarning: Passing (type, 1) or '1type' as a synonym of type is deprecated; in a future version of numpy, it will be understood as (type, (1,)) / '(1,)type'.\n",
      "  _np_qint8 = np.dtype([(\"qint8\", np.int8, 1)])\n",
      "C:\\Users\\kmugalkh\\anaconda3\\lib\\site-packages\\tensorboard\\compat\\tensorflow_stub\\dtypes.py:542: FutureWarning: Passing (type, 1) or '1type' as a synonym of type is deprecated; in a future version of numpy, it will be understood as (type, (1,)) / '(1,)type'.\n",
      "  _np_quint8 = np.dtype([(\"quint8\", np.uint8, 1)])\n",
      "C:\\Users\\kmugalkh\\anaconda3\\lib\\site-packages\\tensorboard\\compat\\tensorflow_stub\\dtypes.py:543: FutureWarning: Passing (type, 1) or '1type' as a synonym of type is deprecated; in a future version of numpy, it will be understood as (type, (1,)) / '(1,)type'.\n",
      "  _np_qint16 = np.dtype([(\"qint16\", np.int16, 1)])\n",
      "C:\\Users\\kmugalkh\\anaconda3\\lib\\site-packages\\tensorboard\\compat\\tensorflow_stub\\dtypes.py:544: FutureWarning: Passing (type, 1) or '1type' as a synonym of type is deprecated; in a future version of numpy, it will be understood as (type, (1,)) / '(1,)type'.\n",
      "  _np_quint16 = np.dtype([(\"quint16\", np.uint16, 1)])\n",
      "C:\\Users\\kmugalkh\\anaconda3\\lib\\site-packages\\tensorboard\\compat\\tensorflow_stub\\dtypes.py:545: FutureWarning: Passing (type, 1) or '1type' as a synonym of type is deprecated; in a future version of numpy, it will be understood as (type, (1,)) / '(1,)type'.\n",
      "  _np_qint32 = np.dtype([(\"qint32\", np.int32, 1)])\n",
      "C:\\Users\\kmugalkh\\anaconda3\\lib\\site-packages\\tensorboard\\compat\\tensorflow_stub\\dtypes.py:550: FutureWarning: Passing (type, 1) or '1type' as a synonym of type is deprecated; in a future version of numpy, it will be understood as (type, (1,)) / '(1,)type'.\n",
      "  np_resource = np.dtype([(\"resource\", np.ubyte, 1)])\n"
     ]
    }
   ],
   "source": [
    "from tensorflow.keras.models import Sequential\n",
    "from tensorflow.keras.layers import Dense\n",
    "from tensorflow.keras.layers import LSTM"
   ]
  },
  {
   "cell_type": "code",
   "execution_count": 89,
   "metadata": {},
   "outputs": [
    {
     "name": "stdout",
     "output_type": "stream",
     "text": [
      "WARNING:tensorflow:From C:\\Users\\kmugalkh\\anaconda3\\lib\\site-packages\\tensorflow\\python\\ops\\init_ops.py:1251: calling VarianceScaling.__init__ (from tensorflow.python.ops.init_ops) with dtype is deprecated and will be removed in a future version.\n",
      "Instructions for updating:\n",
      "Call initializer instance with the dtype argument instead of passing it to the constructor\n",
      "Train on 88 samples, validate on 46 samples\n",
      "WARNING:tensorflow:From C:\\Users\\kmugalkh\\anaconda3\\lib\\site-packages\\tensorflow\\python\\ops\\math_grad.py:1250: add_dispatch_support.<locals>.wrapper (from tensorflow.python.ops.array_ops) is deprecated and will be removed in a future version.\n",
      "Instructions for updating:\n",
      "Use tf.where in 2.0, which has the same broadcast rule as np.where\n",
      "Epoch 1/100\n",
      "88/88 [==============================] - 3s 33ms/sample - loss: 0.0173 - val_loss: 0.0465\n",
      "Epoch 2/100\n",
      "88/88 [==============================] - 1s 9ms/sample - loss: 0.0060 - val_loss: 0.0310\n",
      "Epoch 3/100\n",
      "88/88 [==============================] - 1s 8ms/sample - loss: 0.0060 - val_loss: 0.0305\n",
      "Epoch 4/100\n",
      "88/88 [==============================] - 1s 8ms/sample - loss: 0.0056 - val_loss: 0.0302\n",
      "Epoch 5/100\n",
      "88/88 [==============================] - 1s 9ms/sample - loss: 0.0062 - val_loss: 0.0417\n",
      "Epoch 6/100\n",
      "88/88 [==============================] - 1s 9ms/sample - loss: 0.0053 - val_loss: 0.0270\n",
      "Epoch 7/100\n",
      "88/88 [==============================] - 1s 9ms/sample - loss: 0.0057 - val_loss: 0.0297\n",
      "Epoch 8/100\n",
      "88/88 [==============================] - 1s 9ms/sample - loss: 0.0047 - val_loss: 0.0281\n",
      "Epoch 9/100\n",
      "88/88 [==============================] - 1s 10ms/sample - loss: 0.0048 - val_loss: 0.0328\n",
      "Epoch 10/100\n",
      "88/88 [==============================] - 1s 8ms/sample - loss: 0.0049 - val_loss: 0.0222\n",
      "Epoch 11/100\n",
      "88/88 [==============================] - 1s 8ms/sample - loss: 0.0041 - val_loss: 0.0223\n",
      "Epoch 12/100\n",
      "88/88 [==============================] - 1s 8ms/sample - loss: 0.0054 - val_loss: 0.0252\n",
      "Epoch 13/100\n",
      "88/88 [==============================] - 1s 8ms/sample - loss: 0.0042 - val_loss: 0.0207\n",
      "Epoch 14/100\n",
      "88/88 [==============================] - 1s 8ms/sample - loss: 0.0039 - val_loss: 0.0185\n",
      "Epoch 15/100\n",
      "88/88 [==============================] - 1s 11ms/sample - loss: 0.0042 - val_loss: 0.0207\n",
      "Epoch 16/100\n",
      "88/88 [==============================] - 1s 9ms/sample - loss: 0.0040 - val_loss: 0.0175\n",
      "Epoch 17/100\n",
      "88/88 [==============================] - 1s 10ms/sample - loss: 0.0036 - val_loss: 0.0134\n",
      "Epoch 18/100\n",
      "88/88 [==============================] - 1s 10ms/sample - loss: 0.0035 - val_loss: 0.0139\n",
      "Epoch 19/100\n",
      "88/88 [==============================] - 1s 10ms/sample - loss: 0.0034 - val_loss: 0.0127\n",
      "Epoch 20/100\n",
      "88/88 [==============================] - 1s 9ms/sample - loss: 0.0030 - val_loss: 0.0120\n",
      "Epoch 21/100\n",
      "88/88 [==============================] - 1s 9ms/sample - loss: 0.0029 - val_loss: 0.0082\n",
      "Epoch 22/100\n",
      "88/88 [==============================] - 1s 10ms/sample - loss: 0.0028 - val_loss: 0.0087\n",
      "Epoch 23/100\n",
      "88/88 [==============================] - 1s 8ms/sample - loss: 0.0024 - val_loss: 0.0104\n",
      "Epoch 24/100\n",
      "88/88 [==============================] - 1s 8ms/sample - loss: 0.0022 - val_loss: 0.0078\n",
      "Epoch 25/100\n",
      "88/88 [==============================] - 1s 8ms/sample - loss: 0.0021 - val_loss: 0.0075\n",
      "Epoch 26/100\n",
      "88/88 [==============================] - 1s 8ms/sample - loss: 0.0023 - val_loss: 0.0075\n",
      "Epoch 27/100\n",
      "88/88 [==============================] - 1s 8ms/sample - loss: 0.0020 - val_loss: 0.0088\n",
      "Epoch 28/100\n",
      "88/88 [==============================] - 1s 7ms/sample - loss: 0.0018 - val_loss: 0.0099\n",
      "Epoch 29/100\n",
      "88/88 [==============================] - 1s 8ms/sample - loss: 0.0019 - val_loss: 0.0097\n",
      "Epoch 30/100\n",
      "88/88 [==============================] - 1s 8ms/sample - loss: 0.0020 - val_loss: 0.0160\n",
      "Epoch 31/100\n",
      "88/88 [==============================] - 1s 8ms/sample - loss: 0.0018 - val_loss: 0.0086\n",
      "Epoch 32/100\n",
      "88/88 [==============================] - 1s 8ms/sample - loss: 0.0019 - val_loss: 0.0107\n",
      "Epoch 33/100\n",
      "88/88 [==============================] - 1s 8ms/sample - loss: 0.0026 - val_loss: 0.0089\n",
      "Epoch 34/100\n",
      "88/88 [==============================] - 1s 9ms/sample - loss: 0.0020 - val_loss: 0.0158\n",
      "Epoch 35/100\n",
      "88/88 [==============================] - 1s 9ms/sample - loss: 0.0019 - val_loss: 0.0087\n",
      "Epoch 36/100\n",
      "88/88 [==============================] - 1s 9ms/sample - loss: 0.0019 - val_loss: 0.0135\n",
      "Epoch 37/100\n",
      "88/88 [==============================] - 1s 9ms/sample - loss: 0.0018 - val_loss: 0.0097\n",
      "Epoch 38/100\n",
      "88/88 [==============================] - 1s 8ms/sample - loss: 0.0017 - val_loss: 0.0088\n",
      "Epoch 39/100\n",
      "88/88 [==============================] - 1s 8ms/sample - loss: 0.0020 - val_loss: 0.0098\n",
      "Epoch 40/100\n",
      "88/88 [==============================] - 1s 8ms/sample - loss: 0.0017 - val_loss: 0.0097\n",
      "Epoch 41/100\n",
      "88/88 [==============================] - 1s 8ms/sample - loss: 0.0020 - val_loss: 0.0183\n",
      "Epoch 42/100\n",
      "88/88 [==============================] - 1s 8ms/sample - loss: 0.0017 - val_loss: 0.0106\n",
      "Epoch 43/100\n",
      "88/88 [==============================] - 1s 8ms/sample - loss: 0.0019 - val_loss: 0.0089\n",
      "Epoch 44/100\n",
      "88/88 [==============================] - 1s 8ms/sample - loss: 0.0022 - val_loss: 0.0087\n",
      "Epoch 45/100\n",
      "88/88 [==============================] - 1s 8ms/sample - loss: 0.0021 - val_loss: 0.0189\n",
      "Epoch 46/100\n",
      "88/88 [==============================] - 1s 9ms/sample - loss: 0.0021 - val_loss: 0.0108\n",
      "Epoch 47/100\n",
      "88/88 [==============================] - 1s 8ms/sample - loss: 0.0021 - val_loss: 0.0084\n",
      "Epoch 48/100\n",
      "88/88 [==============================] - 1s 8ms/sample - loss: 0.0022 - val_loss: 0.0078\n",
      "Epoch 49/100\n",
      "88/88 [==============================] - 1s 9ms/sample - loss: 0.0020 - val_loss: 0.0224\n",
      "Epoch 50/100\n",
      "88/88 [==============================] - 1s 8ms/sample - loss: 0.0020 - val_loss: 0.0107\n",
      "Epoch 51/100\n",
      "88/88 [==============================] - 1s 8ms/sample - loss: 0.0018 - val_loss: 0.0099\n",
      "Epoch 52/100\n",
      "88/88 [==============================] - 1s 8ms/sample - loss: 0.0018 - val_loss: 0.0090\n",
      "Epoch 53/100\n",
      "88/88 [==============================] - 1s 8ms/sample - loss: 0.0020 - val_loss: 0.0103\n",
      "Epoch 54/100\n",
      "88/88 [==============================] - 1s 8ms/sample - loss: 0.0020 - val_loss: 0.0083\n",
      "Epoch 55/100\n",
      "88/88 [==============================] - 1s 8ms/sample - loss: 0.0020 - val_loss: 0.0092\n",
      "Epoch 56/100\n",
      "88/88 [==============================] - 1s 9ms/sample - loss: 0.0017 - val_loss: 0.0089\n",
      "Epoch 57/100\n",
      "88/88 [==============================] - 1s 9ms/sample - loss: 0.0018 - val_loss: 0.0319\n",
      "Epoch 58/100\n",
      "88/88 [==============================] - 1s 8ms/sample - loss: 0.0023 - val_loss: 0.0134\n",
      "Epoch 59/100\n",
      "88/88 [==============================] - 1s 8ms/sample - loss: 0.0019 - val_loss: 0.0108\n",
      "Epoch 60/100\n",
      "88/88 [==============================] - 1s 9ms/sample - loss: 0.0018 - val_loss: 0.0082\n",
      "Epoch 61/100\n",
      "88/88 [==============================] - 1s 8ms/sample - loss: 0.0020 - val_loss: 0.0089\n",
      "Epoch 62/100\n",
      "88/88 [==============================] - 1s 9ms/sample - loss: 0.0020 - val_loss: 0.0117\n",
      "Epoch 63/100\n",
      "88/88 [==============================] - 1s 9ms/sample - loss: 0.0017 - val_loss: 0.0171\n",
      "Epoch 64/100\n",
      "88/88 [==============================] - 1s 9ms/sample - loss: 0.0021 - val_loss: 0.0140\n",
      "Epoch 65/100\n",
      "88/88 [==============================] - 1s 8ms/sample - loss: 0.0018 - val_loss: 0.0258\n",
      "Epoch 66/100\n",
      "88/88 [==============================] - 1s 8ms/sample - loss: 0.0019 - val_loss: 0.0167\n",
      "Epoch 67/100\n",
      "88/88 [==============================] - 1s 8ms/sample - loss: 0.0020 - val_loss: 0.0210\n",
      "Epoch 68/100\n",
      "88/88 [==============================] - 1s 8ms/sample - loss: 0.0019 - val_loss: 0.0120\n",
      "Epoch 69/100\n",
      "88/88 [==============================] - 1s 8ms/sample - loss: 0.0019 - val_loss: 0.0266\n",
      "Epoch 70/100\n",
      "88/88 [==============================] - 1s 8ms/sample - loss: 0.0021 - val_loss: 0.0213\n",
      "Epoch 71/100\n",
      "88/88 [==============================] - 1s 8ms/sample - loss: 0.0019 - val_loss: 0.0111\n",
      "Epoch 72/100\n",
      "88/88 [==============================] - 1s 8ms/sample - loss: 0.0018 - val_loss: 0.0097\n",
      "Epoch 73/100\n",
      "88/88 [==============================] - 1s 8ms/sample - loss: 0.0025 - val_loss: 0.0389\n",
      "Epoch 74/100\n"
     ]
    },
    {
     "name": "stdout",
     "output_type": "stream",
     "text": [
      "88/88 [==============================] - 1s 8ms/sample - loss: 0.0020 - val_loss: 0.0182\n",
      "Epoch 75/100\n",
      "88/88 [==============================] - 1s 8ms/sample - loss: 0.0019 - val_loss: 0.0097\n",
      "Epoch 76/100\n",
      "88/88 [==============================] - 1s 8ms/sample - loss: 0.0023 - val_loss: 0.0154\n",
      "Epoch 77/100\n",
      "88/88 [==============================] - 1s 8ms/sample - loss: 0.0019 - val_loss: 0.0156\n",
      "Epoch 78/100\n",
      "88/88 [==============================] - 1s 8ms/sample - loss: 0.0019 - val_loss: 0.0172\n",
      "Epoch 79/100\n",
      "88/88 [==============================] - 1s 9ms/sample - loss: 0.0018 - val_loss: 0.0094\n",
      "Epoch 80/100\n",
      "88/88 [==============================] - 1s 9ms/sample - loss: 0.0018 - val_loss: 0.0156\n",
      "Epoch 81/100\n",
      "88/88 [==============================] - 1s 8ms/sample - loss: 0.0020 - val_loss: 0.0101\n",
      "Epoch 82/100\n",
      "88/88 [==============================] - 1s 8ms/sample - loss: 0.0020 - val_loss: 0.0100\n",
      "Epoch 83/100\n",
      "88/88 [==============================] - 1s 8ms/sample - loss: 0.0022 - val_loss: 0.0211\n",
      "Epoch 84/100\n",
      "88/88 [==============================] - 1s 8ms/sample - loss: 0.0019 - val_loss: 0.0106\n",
      "Epoch 85/100\n",
      "88/88 [==============================] - 1s 8ms/sample - loss: 0.0018 - val_loss: 0.0101\n",
      "Epoch 86/100\n",
      "88/88 [==============================] - 1s 8ms/sample - loss: 0.0017 - val_loss: 0.0189\n",
      "Epoch 87/100\n",
      "88/88 [==============================] - 1s 8ms/sample - loss: 0.0021 - val_loss: 0.0119\n",
      "Epoch 88/100\n",
      "88/88 [==============================] - 1s 8ms/sample - loss: 0.0018 - val_loss: 0.0144\n",
      "Epoch 89/100\n",
      "88/88 [==============================] - 1s 8ms/sample - loss: 0.0020 - val_loss: 0.0201\n",
      "Epoch 90/100\n",
      "88/88 [==============================] - 1s 8ms/sample - loss: 0.0016 - val_loss: 0.0255\n",
      "Epoch 91/100\n",
      "88/88 [==============================] - 1s 9ms/sample - loss: 0.0021 - val_loss: 0.0137\n",
      "Epoch 92/100\n",
      "88/88 [==============================] - 1s 8ms/sample - loss: 0.0018 - val_loss: 0.0193\n",
      "Epoch 93/100\n",
      "88/88 [==============================] - 1s 8ms/sample - loss: 0.0018 - val_loss: 0.0152\n",
      "Epoch 94/100\n",
      "88/88 [==============================] - 1s 8ms/sample - loss: 0.0019 - val_loss: 0.0201\n",
      "Epoch 95/100\n",
      "88/88 [==============================] - 1s 9ms/sample - loss: 0.0020 - val_loss: 0.0180\n",
      "Epoch 96/100\n",
      "88/88 [==============================] - 1s 9ms/sample - loss: 0.0017 - val_loss: 0.0080\n",
      "Epoch 97/100\n",
      "88/88 [==============================] - 1s 8ms/sample - loss: 0.0017 - val_loss: 0.0259\n",
      "Epoch 98/100\n",
      "88/88 [==============================] - 1s 8ms/sample - loss: 0.0020 - val_loss: 0.0100\n",
      "Epoch 99/100\n",
      "88/88 [==============================] - 1s 8ms/sample - loss: 0.0018 - val_loss: 0.0109\n",
      "Epoch 100/100\n",
      "88/88 [==============================] - 1s 9ms/sample - loss: 0.0018 - val_loss: 0.0347\n"
     ]
    },
    {
     "data": {
      "text/plain": [
       "<tensorflow.python.keras.callbacks.History at 0x1e0b00320c8>"
      ]
     },
     "execution_count": 89,
     "metadata": {},
     "output_type": "execute_result"
    }
   ],
   "source": [
    "model=Sequential()\n",
    "model.add(LSTM(50,return_sequences=True,input_shape=(4,1)))\n",
    "model.add(LSTM(50))\n",
    "model.add(Dense(1))\n",
    "model.compile(loss='mean_squared_error',optimizer='adam')\n",
    "model.fit(X_train,y_train,validation_data=(X_test,ytest),epochs=100,batch_size=1,verbose=1)"
   ]
  },
  {
   "cell_type": "code",
   "execution_count": null,
   "metadata": {},
   "outputs": [],
   "source": []
  }
 ],
 "metadata": {
  "kernelspec": {
   "display_name": "Python 3",
   "language": "python",
   "name": "python3"
  },
  "language_info": {
   "codemirror_mode": {
    "name": "ipython",
    "version": 3
   },
   "file_extension": ".py",
   "mimetype": "text/x-python",
   "name": "python",
   "nbconvert_exporter": "python",
   "pygments_lexer": "ipython3",
   "version": "3.7.6"
  }
 },
 "nbformat": 4,
 "nbformat_minor": 4
}
